{
 "cells": [
  {
   "cell_type": "markdown",
   "metadata": {
    "collapsed": false
   },
   "source": [
    "# Time of Day and District Relation on Crime in Seattle\n",
    "Findings based on summer of 2014 data set supplied by Dr. Bill Howe for the Coursera's Communicating Data Science Results course\n",
    "\n",
    "\n",
    "The noptebook used to create the content to follow can be seen here:\n",
    "https://github.com/SethPaul/UW_DS/blob/master/seattle_crime_notebook.ipynb \n",
    "\n",
    "The beginning hypothesis was that time and location within the city would affect the types of crimes being commited.\n",
    "\n",
    "The times of incident occurence/commencement and incident conclusion were processed to allow comparison at hourly increments."
   ]
  },
  {
   "cell_type": "markdown",
   "metadata": {},
   "source": [
    "There were 26 different offense codes listed within the data set these were rather non-descript, e.g. 1200, 1300, etc.\n",
    "For visual comparison the labels of the types of the crimes would be much more interesting. these were found in the offense type description; however, there were 147 different types. These types were reduced to their common categories, e.g. 'THEFT-CARPROWL' and 'THEFT-PKPOCKET' became 'THEFT'. This reduced the number of categories to 51 better but too many for visual comparison.\n",
    "\n",
    "The 12 categories with the most incidents were selected for comparison. These were:\n",
    "-\"THEFT\" -\"BURGLARY\" -\"VEH\" -\"PROPERTY DAMAGE\" -\"ASSLT\" -\"FRAUD\" -\"DISTURBANCE\"    \n",
    "-\"PROPERTY FOUND\" -\"WARRARR\" -\"ROBBERY\" -\"THREATS\" -\"HARASSMENT\"     "
   ]
  },
  {
   "cell_type": "markdown",
   "metadata": {},
   "source": [
    "These categories were then binned on hour of the day of the start or occurence of the incident and the end of the incident. Below are shown the start and end times of the offense types."
   ]
  },
  {
   "cell_type": "markdown",
   "metadata": {},
   "source": [
    "### Number of occurences vs hour of the day event started or occured \n",
    "![alt text](https://raw.githubusercontent.com/SethPaul/UW_DS/master/crime_start.png \"Incident Start\")"
   ]
  },
  {
   "cell_type": "markdown",
   "metadata": {},
   "source": [
    "It can be seen that there is a lull in incidents beginning at 2 AM. There is also a spike at noon. This may be due to people heading out at lunch but as it seems to be a increase nearly in all types of offenses it is likely an artifact of 12:00 being the default time recorded when the actual time is not known or only a day is given.\n",
    "\n",
    "It appears that there is a continual increase from 8 AM to 10 PM. The time from midnight to 1 PM had the most incidents. A cursory inspection of the proportion of offense categories shows the composition of the types offenses appear rather consistent throughout the day as the overall number of occurences varies.  "
   ]
  },
  {
   "cell_type": "markdown",
   "metadata": {},
   "source": [
    "There are 13719 incidents where no end date was given and the start date was considered the time the event occured without duration. Those were not represented in the graph below."
   ]
  },
  {
   "cell_type": "markdown",
   "metadata": {},
   "source": [
    "### Number of occurences vs hour of the day event ended\n",
    "![alt text](https://raw.githubusercontent.com/SethPaul/UW_DS/master/crime_end.png \"Incident End\")\n"
   ]
  },
  {
   "cell_type": "markdown",
   "metadata": {},
   "source": [
    "It can be seen that occurences often end at the start of the day. Unlike the start times it does seem that the composition of the offense types does change through the day. Vehicular offense, belived to be 'VEH', appear to a bit more prominent leading up to 9 AM for work. "
   ]
  },
  {
   "cell_type": "markdown",
   "metadata": {},
   "source": [
    "Next the location of the incidents is considered. The 'District Sector' was supplied in teh data set but it did not match the subareas of Seattle, say 'Capitol Hill' or 'Downtown'. Below is shown the geocoordinates mapped to the District Sector. There are 2050 incidents with either a 0 latitude or logitude value. These incidents were removed for the sector comprisons."
   ]
  },
  {
   "cell_type": "markdown",
   "metadata": {},
   "source": [
    "### Incidents by District Sector\n",
    "![alt text](https://raw.githubusercontent.com/SethPaul/UW_DS/master/district_crime.png \"Indicents by District \")"
   ]
  },
  {
   "cell_type": "markdown",
   "metadata": {},
   "source": [
    "### For comparison here is a map of Seattle's sub-areas:\n",
    "![alt text](https://upload.wikimedia.org/wikipedia/commons/8/8f/Map_of_Seattle,_divided_by_districts.png \"Seattle Map\")"
   ]
  },
  {
   "cell_type": "markdown",
   "metadata": {},
   "source": [
    "Next with the districts located it is worth looking at the types of incidents occuring."
   ]
  },
  {
   "cell_type": "markdown",
   "metadata": {},
   "source": [
    "### Type of incident compared across start time and district\n",
    "![alt text](https://raw.githubusercontent.com/SethPaul/UW_DS/master/time_v_district.png \"Incident by District and Time\")"
   ]
  },
  {
   "cell_type": "markdown",
   "metadata": {},
   "source": [
    "This lot is a little small given the amount of inofrmation being displayed. (A larger version: https://raw.githubusercontent.com/SethPaul/UW_DS/master/time_v_district.png)\n",
    "\n",
    "It can be seen that theft particularly a problem in district M during the day. This should not be surprising as district M appears to align with Downtown. The main result of this analysis is to be of weary of theft downtown even during business hours.   "
   ]
  },
  {
   "cell_type": "markdown",
   "metadata": {},
   "source": [
    "Additionally, the day of week was considered for comparison."
   ]
  },
  {
   "cell_type": "markdown",
   "metadata": {},
   "source": [
    "### Type of incident compared across start time and district\n",
    "![alt text](https://raw.githubusercontent.com/SethPaul/UW_DS/master/time_v_day.png \"Incident by day of week and Time\")"
   ]
  },
  {
   "cell_type": "markdown",
   "metadata": {},
   "source": [
    "The weekday comparison shows the increased activity on Saturday and Sunday nights. "
   ]
  }
 ],
 "metadata": {
  "kernelspec": {
   "display_name": "R",
   "language": "R",
   "name": "ir"
  },
  "language_info": {
   "codemirror_mode": "r",
   "file_extension": ".r",
   "mimetype": "text/x-r-source",
   "name": "R",
   "pygments_lexer": "r",
   "version": "3.2.2"
  }
 },
 "nbformat": 4,
 "nbformat_minor": 0
}
